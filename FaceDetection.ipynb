{
 "cells": [
  {
   "cell_type": "code",
   "execution_count": 2,
   "metadata": {},
   "outputs": [],
   "source": [
    "import cv2\n",
    "import mediapipe as mp\n",
    "\n",
    "cap = cv2.VideoCapture(0)\n",
    "\n",
    "mpFaceDetection = mp.solutions.face_detection\n",
    "faceDetection = mpFaceDetection.FaceDetection()\n",
    "mpDraw = mp.solutions.drawing_utils\n",
    "\n",
    "while True:\n",
    "    succes, img = cap.read()\n",
    "        \n",
    "    imgRGB = cv2.cvtColor(img, cv2.COLOR_BGR2RGB)\n",
    "    result = faceDetection.process(imgRGB) \n",
    "    \n",
    "    if result.detections:\n",
    "        for id, detection in enumerate(result.detections):\n",
    "            #mpDraw.draw_detection(img, detection)\n",
    "            \n",
    "            #Vamos a mostrar todos los valores en una Bounding Box\n",
    "            bboxC = detection.location_data.relative_bounding_box\n",
    "            h, w, c = img.shape\n",
    "            bbox = int(bboxC.xmin * w), int(bboxC.ymin * h), int(bboxC.width * w), int(bboxC.height * h)\n",
    "            \n",
    "            cv2.rectangle(img, bbox, (225,0,255), 2)\n",
    "            cv2.putText(img, f'accuracy: {detection.score[0]:.2f}', (bbox[0], bbox[1]-20), cv2.FONT_HERSHEY_PLAIN, 3, (255,0,255), 3)\n",
    "        \n",
    "    cv2.imshow(\"Image\", img)\n",
    "    if cv2.waitKey(1) & 0xFF == 27:  # Presionar 'Esc' para salir\n",
    "        break\n",
    "\n",
    "cap.release()\n",
    "cv2.destroyAllWindows()"
   ]
  }
 ],
 "metadata": {
  "kernelspec": {
   "display_name": ".venv",
   "language": "python",
   "name": "python3"
  },
  "language_info": {
   "codemirror_mode": {
    "name": "ipython",
    "version": 3
   },
   "file_extension": ".py",
   "mimetype": "text/x-python",
   "name": "python",
   "nbconvert_exporter": "python",
   "pygments_lexer": "ipython3",
   "version": "3.11.5"
  }
 },
 "nbformat": 4,
 "nbformat_minor": 2
}
